{
 "cells": [
  {
   "cell_type": "code",
   "execution_count": null,
   "metadata": {},
   "outputs": [],
   "source": [
    "! pip install numpy\n",
    "! pip install tqdm\n",
    "! pip install matplotlib"
   ]
  },
  {
   "cell_type": "code",
   "execution_count": 1,
   "metadata": {},
   "outputs": [],
   "source": [
    "from enum import Enum\n",
    "\n",
    "import numpy as np\n",
    "import matplotlib.pyplot as plt\n",
    "from tqdm import tqdm"
   ]
  },
  {
   "cell_type": "markdown",
   "metadata": {},
   "source": [
    "# Environment\n",
    "We define a generic `GridWorldEnvironment` class to represent our simple problem and allow us to take actions on it."
   ]
  },
  {
   "cell_type": "code",
   "execution_count": 2,
   "metadata": {},
   "outputs": [],
   "source": [
    "class Action(Enum):\n",
    "    LEFT = 0\n",
    "    UP = 1\n",
    "    RIGHT = 2\n",
    "    DOWN = 3\n",
    "    \n",
    "    \n",
    "    \n",
    "class GridWorldEnvironment(object):\n",
    "    def __init__(self, height, width, reward_pairs, invalid_action_reward=-10, step_reward=-1):\n",
    "        \"\"\"\n",
    "        Initializes the environemnt for gridworld\n",
    "        \n",
    "        Args:\n",
    "            height (int): The height of the environment\n",
    "            width (int): The width of the environment\n",
    "            reward_pairs (dict): The spectial transitions pairs, indicated by a dict having as key a tuple of the\n",
    "                source cell coordinates and as value a tuple with the source cell coordinates and the reward\n",
    "            invalid_action_reward (int): The reward given if invalid actions have been taken\n",
    "            step_reward (int): The reward for a \"normal\" step taken.\n",
    "        \"\"\"\n",
    "        self.height = height\n",
    "        self.width = width\n",
    "        \n",
    "        self.reward_pairs = reward_pairs\n",
    "        \n",
    "        self.invalid_action_reward = invalid_action_reward\n",
    "        self.step_reward = step_reward\n",
    "        \n",
    "        self.state = (0, 0)\n",
    "        self.terminated = False\n",
    "        \n",
    "    def _compute_desired_next_state(self, state, action):\n",
    "        if action == Action.LEFT:\n",
    "            return (state[0], state[1] - 1)\n",
    "        elif action == Action.RIGHT:\n",
    "            return (state[0], state[1] + 1)\n",
    "        elif action == Action.UP:\n",
    "            return (state[0] - 1, state[1])\n",
    "        elif action == Action.DOWN:\n",
    "            return (state[0] + 1, state[1])\n",
    "        \n",
    "    def _is_permitted_state(self, desired_state):\n",
    "        return (\n",
    "            (desired_state[0] >= 0) and\n",
    "            (desired_state[0] < self.height) and\n",
    "            (desired_state[1] >= 0) and\n",
    "            (desired_state[1] < self.width)\n",
    "        )\n",
    "        \n",
    "    def act(self, action):\n",
    "        \"\"\"\n",
    "        Performs an action in the current state.\n",
    "        \n",
    "        Args:\n",
    "            action (Action or int): The action to take.\n",
    "            \n",
    "        Returns:\n",
    "            int: The reward of taking this action\n",
    "        \"\"\"\n",
    "        \n",
    "        # If the current state is in one of the reward pairs any action will result\n",
    "        # in a transition to the specified state and the specified reward.\n",
    "        if self.state in reward_pairs:\n",
    "            next_state, reward = self.reward_pairs[self.state]\n",
    "            \n",
    "            self.state = next_state            \n",
    "            return reward\n",
    "        else:\n",
    "            desired_next_state = self._compute_desired_next_state(self.state, action)\n",
    "\n",
    "            if self._is_permitted_state(desired_next_state):\n",
    "                # For permitted actions, transition and return a reward of 0\n",
    "                self.state = desired_next_state\n",
    "                return self.step_reward\n",
    "            else:\n",
    "                # For not permitted actions, stay in the same state and give -1 reward\n",
    "                return self.invalid_action_reward\n",
    "            \n",
    "    def reset(self):\n",
    "        self.state = (0, 0)\n",
    "        self.terminated = False\n",
    "            \n",
    "    def get_position_as_numpy(self):\n",
    "        grid = np.zeros((self.height, self.width))\n",
    "        grid[self.state] = 1\n",
    "        \n",
    "        return grid"
   ]
  },
  {
   "cell_type": "markdown",
   "metadata": {},
   "source": [
    "Next we create an instance of this environment as given in `Example 3.5` in the book of [Sutton & Barto](http://incompleteideas.net/book/the-book-2nd.html). The example below was taken from that:\n",
    "\n",
    "<img src=\"./gridworld_example_35_sutton_barto.png\" alt=\"Example 3.5 Sutton & Barto\" style=\"width:50%; margin:auto\"/>\n",
    "\n",
    "The implementation here does change the game from the example a bit. In the game from the example there is no incentive to move towards the optimal reward actions as quickly as possible. This makes the game much more instable and finding an optimal solution there does require some exploration strategy. Therefore we first create an instance of the game were we set the reward for taking an invalid action to `-10` and the reward for taking a allowed step that does not provide any payoff to `-1`.\n"
   ]
  },
  {
   "cell_type": "code",
   "execution_count": 3,
   "metadata": {},
   "outputs": [],
   "source": [
    "reward_pairs = {\n",
    "    (0, 1): ((4, 1), 10),\n",
    "    (0, 3): ((2, 3), 5)\n",
    "}\n",
    "\n",
    "env = GridWorldEnvironment(5, 5, reward_pairs, invalid_action_reward=-1, step_reward=-0.05)"
   ]
  },
  {
   "cell_type": "markdown",
   "metadata": {},
   "source": [
    "Let's take some actions and see that we traverse the grid properly"
   ]
  },
  {
   "cell_type": "code",
   "execution_count": 4,
   "metadata": {},
   "outputs": [
    {
     "name": "stdout",
     "output_type": "stream",
     "text": [
      "Environment started in position (0, 0)\n",
      "\n",
      "Performing action Action.LEFT\n",
      "Transitioned to (0, 0)\n",
      "Total reward is -1\n",
      "\n",
      "Performing action Action.DOWN\n",
      "Transitioned to (1, 0)\n",
      "Total reward is -1\n",
      "\n",
      "Performing action Action.RIGHT\n",
      "Transitioned to (1, 1)\n",
      "Total reward is -1\n",
      "\n",
      "Performing action Action.UP\n",
      "Transitioned to (0, 1)\n",
      "Total reward is -1\n",
      "\n",
      "Performing action Action.UP\n",
      "Transitioned to (4, 1)\n",
      "Total reward is 8\n"
     ]
    }
   ],
   "source": [
    "action_sequence = [Action.LEFT, Action.DOWN, Action.RIGHT, Action.UP, Action.UP]\n",
    "\n",
    "total_reward = 0\n",
    "\n",
    "print(\"Environment started in position (%d, %d)\" % env.state)\n",
    "for action in action_sequence:\n",
    "    print(\"\\nPerforming action %s\" % action)\n",
    "    total_reward += env.act(action)\n",
    "    \n",
    "    print(\"Transitioned to (%d, %d)\" % env.state)\n",
    "    print(\"Total reward is %d\" % total_reward)"
   ]
  },
  {
   "cell_type": "markdown",
   "metadata": {},
   "source": [
    "# Q-learning\n",
    "Let's set up the loop to estimate `Q(s, a)` iteratively. In this scenario we can nicely represent `Q` as a 3d-tensor that when indexing behaves like the function `Q` we are representing would."
   ]
  },
  {
   "cell_type": "code",
   "execution_count": 34,
   "metadata": {},
   "outputs": [
    {
     "name": "stderr",
     "output_type": "stream",
     "text": [
      "Average reward 172.75: 100%|██████████| 1000/1000 [00:10<00:00, 95.35it/s]\n"
     ]
    }
   ],
   "source": [
    "ALPHA = 0.1\n",
    "N_GAMES = 1000\n",
    "MAX_ITER = 100\n",
    "GAMMA = 1\n",
    "EPSILON = 0.1\n",
    "\n",
    "\n",
    "Q = np.zeros((env.height, env.width, len(Action)))\n",
    "\n",
    "visited = np.zeros((env.height, env.width))\n",
    "\n",
    "game_result = []\n",
    "games_iterator = tqdm(range(N_GAMES))\n",
    "for game in games_iterator:\n",
    "    # Reset our environment such that we start with a clean slate\n",
    "    env.reset()\n",
    "\n",
    "    total_reward = 0\n",
    "    i = 0\n",
    "    while not env.terminated and i < MAX_ITER:\n",
    "        current_state = env.state\n",
    "        \n",
    "        visited[current_state] += 1\n",
    "        \n",
    "        if np.random.rand() < EPSILON:\n",
    "            action = Action(\n",
    "                np.random.randint(Q.shape[-1])\n",
    "            )\n",
    "        else:\n",
    "            # This is a slight variation of the traditional Q learning algorithm. However, this strategy allows for\n",
    "            # a bit more exploration than only taking the maximum Q value found.\n",
    "            action = Action(\n",
    "                np.random.choice(\n",
    "                    np.arange(Q.shape[-1]),\n",
    "                    p=softmax(Q[current_state])\n",
    "                )\n",
    "            )\n",
    "\n",
    "        reward = env.act(action)\n",
    "        new_state = env.state\n",
    "             \n",
    "\n",
    "        Q[(*current_state, action.value)] = (\n",
    "            Q[(*current_state, action.value)] + ALPHA * (reward + GAMMA * np.max(Q[new_state]) - Q[(*current_state, action.value)])\n",
    "        )\n",
    "        \n",
    "        total_reward += reward\n",
    "        i += 1\n",
    "        \n",
    "    game_result.append(total_reward)\n",
    "    \n",
    "    games_iterator.set_description('Average reward %.2f' % np.array(game_result).mean())\n",
    "    \n",
    "    "
   ]
  },
  {
   "cell_type": "markdown",
   "metadata": {},
   "source": [
    "# Results\n",
    "We plot the results per game. We see that the algorithm easily learns to find good strategies. However, due to the non-deminishing explorarion rate $\\epsilon=0.1$ we see that the game starts oscilating around a maximum reward."
   ]
  },
  {
   "cell_type": "code",
   "execution_count": 35,
   "metadata": {},
   "outputs": [
    {
     "data": {
      "text/plain": [
       "[<matplotlib.lines.Line2D at 0x7f47e40cd890>]"
      ]
     },
     "execution_count": 35,
     "metadata": {},
     "output_type": "execute_result"
    },
    {
     "data": {
      "image/png": "[encoded data removed]",
      "text/plain": [
       "<Figure size 1080x360 with 2 Axes>"
      ]
     },
     "metadata": {
      "needs_background": "light"
     },
     "output_type": "display_data"
    }
   ],
   "source": [
    "fig, axs = plt.subplots(ncols=2, figsize=(15, 5))\n",
    "\n",
    "axs[0].set_title('Reward per game')\n",
    "axs[0].plot(np.array(game_result))\n",
    "\n",
    "axs[1].set_title('Cumlative average reward')\n",
    "axs[1].plot(np.array(game_result).cumsum() / np.arange(1, len(game_result)+1))"
   ]
  },
  {
   "cell_type": "markdown",
   "metadata": {},
   "source": [
    "The best action in every state $s$ can be found by simply taking $argmax_{a} Q(s, a)$. This gives an optimal action in every state which in our case is a move in a certain direction. The plot below shows the optimal moves found for every state."
   ]
  },
  {
   "cell_type": "code",
   "execution_count": 36,
   "metadata": {},
   "outputs": [
    {
     "data": {
      "text/plain": [
       "<matplotlib.quiver.Quiver at 0x7f47dffccf10>"
      ]
     },
     "execution_count": 36,
     "metadata": {},
     "output_type": "execute_result"
    },
    {
     "data": {
      "image/png": "[encoded data removed]",
      "text/plain": [
       "<Figure size 432x288 with 1 Axes>"
      ]
     },
     "metadata": {
      "needs_background": "light"
     },
     "output_type": "display_data"
    }
   ],
   "source": [
    "best_actions = np.argmax(Q, axis=-1)\n",
    "\n",
    "left = (best_actions == Action.LEFT.value)\n",
    "right = (best_actions == Action.RIGHT.value)\n",
    "up = (best_actions == Action.UP.value)\n",
    "down = (best_actions == Action.DOWN.value)\n",
    "\n",
    "vectors = np.zeros((Q.shape[0], Q.shape[1], 2))\n",
    "\n",
    "vectors[..., 0] += up\n",
    "vectors[..., 0] -= down\n",
    "\n",
    "vectors[..., 1] += right\n",
    "vectors[..., 1] -= left\n",
    "\n",
    "X, Y = np.meshgrid(np.arange(Q.shape[0]), np.arange(Q.shape[1])[::-1])\n",
    "YX = np.concatenate([Y[ ..., None], X[..., None]], axis=-1).reshape((-1, 2))\n",
    "\n",
    "plt.quiver(YX[..., 1], YX[..., 0], vectors[..., 1].reshape(-1), vectors[..., 0].reshape(-1))"
   ]
  }
 ],
 "metadata": {
  "kernelspec": {
   "display_name": "Python 3",
   "language": "python",
   "name": "python3"
  },
  "language_info": {
   "codemirror_mode": {
    "name": "ipython",
    "version": 3
   },
   "file_extension": ".py",
   "mimetype": "text/x-python",
   "name": "python",
   "nbconvert_exporter": "python",
   "pygments_lexer": "ipython3",
   "version": "3.7.9"
  }
 },
 "nbformat": 4,
 "nbformat_minor": 4
}
